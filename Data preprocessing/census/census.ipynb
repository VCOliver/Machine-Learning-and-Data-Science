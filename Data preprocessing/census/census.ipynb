{
 "cells": [
  {
   "cell_type": "code",
   "execution_count": 1,
   "source": [
    "import pandas as pd\n",
    "import numpy as np\n",
    "import seaborn as sns\n",
    "import matplotlib.pyplot as plt\n",
    "import plotly.express as px\n",
    "from sklearn.preprocessing import LabelEncoder\n",
    "\n",
    "base_census = pd.read_csv('census.csv')\n",
    "\n",
    "# print(np.unique(base_census['income'], return_counts=True))\n",
    "\n",
    "# sns.countplot(x=base_census['income'])\n",
    "# plt.show()\n",
    "\n",
    "# graph = px.treemap(base_census, path=['occupation'])\n",
    "# graph.show()\n",
    "\n",
    "X_census = base_census.iloc[:,0:14].values\n",
    "Y_census = base_census.iloc[:,14].values\n",
    "\n",
    "# Treatment of categorical attributes\n",
    "label_encoder_workclass = LabelEncoder()\n",
    "label_encoder_education = LabelEncoder()\n",
    "label_encoder_marital = LabelEncoder()\n",
    "label_encoder_occupation = LabelEncoder()\n",
    "label_encoder_relationship = LabelEncoder()\n",
    "label_encoder_race = LabelEncoder()\n",
    "label_encoder_sex = LabelEncoder()\n",
    "label_encoder_country = LabelEncoder()\n",
    "\n",
    "X_census[:,1] = label_encoder_workclass.fit_transform(X_census[:,1])\n",
    "X_census[:,3] = label_encoder_education.fit_transform(X_census[:,3])\n",
    "X_census[:,5] = label_encoder_marital.fit_transform(X_census[:,5])\n",
    "X_census[:,6] = label_encoder_occupation.fit_transform(X_census[:,6])\n",
    "X_census[:,7] = label_encoder_relationship.fit_transform(X_census[:,7])\n",
    "X_census[:,8] = label_encoder_race.fit_transform(X_census[:,8])\n",
    "X_census[:,9] = label_encoder_sex.fit_transform(X_census[:,9])\n",
    "X_census[:,13] = label_encoder_country.fit_transform(X_census[:,13])\n",
    "\n",
    "print(X_census[0])"
   ],
   "outputs": [
    {
     "output_type": "stream",
     "name": "stdout",
     "text": [
      "[39 7 77516 9 13 4 1 1 4 1 2174 0 40 39]\n"
     ]
    }
   ],
   "metadata": {}
  },
  {
   "cell_type": "code",
   "execution_count": 2,
   "source": [
    "from sklearn.preprocessing import OneHotEncoder\n",
    "from sklearn.compose import ColumnTransformer"
   ],
   "outputs": [],
   "metadata": {}
  },
  {
   "cell_type": "code",
   "execution_count": 3,
   "source": [
    "onehotencoder_census = ColumnTransformer(transformers=[('OneHot', OneHotEncoder(), [1,3,5,6,7,8,9,13])], remainder='passthrough')"
   ],
   "outputs": [],
   "metadata": {}
  },
  {
   "cell_type": "code",
   "execution_count": 4,
   "source": [
    "X_census = onehotencoder_census.fit_transform(X_census).toarray()"
   ],
   "outputs": [],
   "metadata": {}
  },
  {
   "cell_type": "code",
   "execution_count": 5,
   "source": [
    "from sklearn.preprocessing import StandardScaler"
   ],
   "outputs": [],
   "metadata": {}
  },
  {
   "cell_type": "code",
   "execution_count": 6,
   "source": [
    "scaler_census = StandardScaler()"
   ],
   "outputs": [],
   "metadata": {}
  },
  {
   "cell_type": "code",
   "execution_count": 7,
   "source": [
    "X_census = scaler_census.fit_transform(X_census)"
   ],
   "outputs": [],
   "metadata": {}
  },
  {
   "cell_type": "code",
   "execution_count": 8,
   "source": [
    "X_census[0]"
   ],
   "outputs": [
    {
     "output_type": "execute_result",
     "data": {
      "text/plain": [
       "array([-0.2444502 , -0.17429511, -0.26209736, -0.01466381, -1.5167923 ,\n",
       "       -0.18838933, -0.29093568,  4.90769968, -0.02073999, -0.17175325,\n",
       "       -0.19348662, -0.11609195, -0.07201601, -0.10164955, -0.1422718 ,\n",
       "       -0.12664495, -0.18406376, -0.21053433,  2.25399324, -0.11334387,\n",
       "       -0.68994199, -0.23637391, -0.03960742, -0.13419553, -0.53714425,\n",
       "       -0.39750806, -0.02658695, -0.92284068, -0.11403678,  1.43105786,\n",
       "       -0.1802846 , -0.17735813, -0.24494366,  2.76348874, -0.01662771,\n",
       "       -0.37949517, -0.37774555, -0.17745022, -0.20957797, -0.25595432,\n",
       "       -0.33554133, -0.06780164, -0.38166338, -0.14260848, -0.35531609,\n",
       "       -0.17127887, -0.22710355, -0.82533335,  1.70899099, -0.17624972,\n",
       "       -0.42934582, -0.34403232, -0.22492681, -0.09820087, -0.18155194,\n",
       "       -0.32576824, -0.09161163,  0.4130197 , -0.70307135,  0.70307135,\n",
       "       -0.13502327, -0.02416321, -0.06107342, -0.0480488 , -0.04260602,\n",
       "       -0.05409379, -0.04641598, -0.02933708, -0.05714946, -0.05264698,\n",
       "       -0.02985682, -0.06500204, -0.02985682, -0.04437806, -0.03678503,\n",
       "       -0.00554189, -0.01998525, -0.02479131, -0.01998525, -0.05550333,\n",
       "       -0.03636406, -0.02715919, -0.04740236, -0.04993839, -0.04367781,\n",
       "       -0.02351838, -0.1419344 , -0.03233087, -0.02073999, -0.03087016,\n",
       "       -0.07821827, -0.04296623, -0.03372864, -0.05927412, -0.01920091,\n",
       "       -0.0496284 , -0.03960742, -0.02351838, -0.02416321,  0.34095391,\n",
       "       -0.04540836, -0.02217266,  0.03067056, -1.06361075,  1.13473876,\n",
       "        0.1484529 , -0.21665953, -0.03542945])"
      ]
     },
     "metadata": {},
     "execution_count": 8
    }
   ],
   "metadata": {}
  },
  {
   "cell_type": "code",
   "execution_count": 9,
   "source": [
    "from sklearn.model_selection import train_test_split\n",
    "X_census_treinamento, X_census_teste, y_census_treinamento, y_census_teste = train_test_split(X_census, Y_census, test_size=0.15, random_state=0)"
   ],
   "outputs": [],
   "metadata": {}
  },
  {
   "cell_type": "code",
   "execution_count": 10,
   "source": [
    "X_census_treinamento.shape, y_census_treinamento.shape"
   ],
   "outputs": [
    {
     "output_type": "execute_result",
     "data": {
      "text/plain": [
       "((27676, 108), (27676,))"
      ]
     },
     "metadata": {},
     "execution_count": 10
    }
   ],
   "metadata": {}
  },
  {
   "cell_type": "code",
   "execution_count": 11,
   "source": [
    "X_census_teste.shape, y_census_teste.shape"
   ],
   "outputs": [
    {
     "output_type": "execute_result",
     "data": {
      "text/plain": [
       "((4885, 108), (4885,))"
      ]
     },
     "metadata": {},
     "execution_count": 11
    }
   ],
   "metadata": {}
  },
  {
   "cell_type": "code",
   "execution_count": 12,
   "source": [
    "import pickle"
   ],
   "outputs": [],
   "metadata": {}
  },
  {
   "cell_type": "code",
   "execution_count": 13,
   "source": [
    "with open('census.pkl', mode='wb') as f:\n",
    "    pickle.dump([X_census_treinamento, y_census_treinamento, X_census_teste, y_census_teste], f)"
   ],
   "outputs": [],
   "metadata": {}
  }
 ],
 "nbformat": 4,
 "nbformat_minor": 2,
 "metadata": {
  "language_info": {
   "codemirror_mode": {
    "name": "ipython",
    "version": 3
   },
   "file_extension": ".py",
   "mimetype": "text/x-python",
   "name": "python",
   "nbconvert_exporter": "python",
   "pygments_lexer": "ipython3",
   "version": 3
  }
 }
}